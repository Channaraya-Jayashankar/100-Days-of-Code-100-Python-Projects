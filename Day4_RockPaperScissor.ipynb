{
  "nbformat": 4,
  "nbformat_minor": 0,
  "metadata": {
    "colab": {
      "provenance": [],
      "authorship_tag": "ABX9TyO0pxhj2B3qnk022rRPAJOR",
      "include_colab_link": true
    },
    "kernelspec": {
      "name": "python3",
      "display_name": "Python 3"
    },
    "language_info": {
      "name": "python"
    }
  },
  "cells": [
    {
      "cell_type": "markdown",
      "metadata": {
        "id": "view-in-github",
        "colab_type": "text"
      },
      "source": [
        "<a href=\"https://colab.research.google.com/github/Channaraya-Jayashankar/100-Days-of-Code-100-Python-Projects/blob/main/Day4_RockPaperScissor.ipynb\" target=\"_parent\"><img src=\"https://colab.research.google.com/assets/colab-badge.svg\" alt=\"Open In Colab\"/></a>"
      ]
    },
    {
      "cell_type": "code",
      "execution_count": 5,
      "metadata": {
        "colab": {
          "base_uri": "https://localhost:8080/"
        },
        "id": "GWRC5vx5QHjt",
        "outputId": "0fb378d4-d505-4d73-c718-e41e4d2e1314"
      },
      "outputs": [
        {
          "output_type": "stream",
          "name": "stdout",
          "text": [
            "What do you choose? Type 0 for Rock, 1 for Paper or 2 for Scissors.2\n",
            "You Choose:\n",
            "\n",
            "    _______\n",
            "---'   ____)____\n",
            "          ______)\n",
            "       __________)\n",
            "      (____)\n",
            "---.__(___)\n",
            "\n",
            "Computer choose:\n",
            "\n",
            "    _______\n",
            "---'   ____)____\n",
            "          ______)\n",
            "          _______)\n",
            "         _______)\n",
            "---.__________)\n",
            "\n",
            "You win:)\n"
          ]
        }
      ],
      "source": [
        "import random\n",
        "\n",
        "rock = '''\n",
        "    _______\n",
        "---'   ____)\n",
        "      (_____)\n",
        "      (_____)\n",
        "      (____)\n",
        "---.__(___)\n",
        "'''\n",
        "\n",
        "paper = '''\n",
        "    _______\n",
        "---'   ____)____\n",
        "          ______)\n",
        "          _______)\n",
        "         _______)\n",
        "---.__________)\n",
        "'''\n",
        "\n",
        "scissors = '''\n",
        "    _______\n",
        "---'   ____)____\n",
        "          ______)\n",
        "       __________)\n",
        "      (____)\n",
        "---.__(___)\n",
        "'''\n",
        "\n",
        "\n",
        "game_images = [rock, paper, scissors]\n",
        "\n",
        "user_choice = (int(input(\"What do you choose? Type 0 for Rock, 1 for Paper or 2 for Scissors.\")))\n",
        "print(\"You Choose:\")\n",
        "if user_choice >= 0 or user_choice >= 2:\n",
        "    print(game_images[user_choice])\n",
        "\n",
        "computer_choice = random.randint(0, 2)\n",
        "print(\"Computer choose:\")\n",
        "print(game_images[computer_choice])\n",
        "\n",
        "if user_choice >= 3 or user_choice < 0:\n",
        "    print(\"You have chosen invalid number. Try again!\")\n",
        "elif user_choice > computer_choice:\n",
        "    print(\"You win:)\")\n",
        "elif computer_choice > user_choice:\n",
        "    print(\"You loose:(\")\n",
        "elif user_choice == computer_choice:\n",
        "    print(\"It's draw :]\")\n",
        "elif computer_choice == 0 and user_choice == 2:\n",
        "    print(\"You loose:(\")\n",
        "elif user_choice == 0 and computer_choice == 2:\n",
        "    print(\"You win:)\")\n",
        "\n"
      ]
    },
    {
      "cell_type": "code",
      "source": [],
      "metadata": {
        "id": "oVjGSK9GQScO"
      },
      "execution_count": 4,
      "outputs": []
    }
  ]
}