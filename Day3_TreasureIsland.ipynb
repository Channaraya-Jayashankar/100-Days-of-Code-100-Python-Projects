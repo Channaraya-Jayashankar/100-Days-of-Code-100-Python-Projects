{
  "nbformat": 4,
  "nbformat_minor": 0,
  "metadata": {
    "colab": {
      "provenance": [],
      "authorship_tag": "ABX9TyMMD4MJ3IzBUhvjLi5lJh0a",
      "include_colab_link": true
    },
    "kernelspec": {
      "name": "python3",
      "display_name": "Python 3"
    },
    "language_info": {
      "name": "python"
    }
  },
  "cells": [
    {
      "cell_type": "markdown",
      "metadata": {
        "id": "view-in-github",
        "colab_type": "text"
      },
      "source": [
        "<a href=\"https://colab.research.google.com/github/Channaraya-Jayashankar/100-Days-of-Code-100-Python-Projects/blob/main/Day3_TreasureIsland.ipynb\" target=\"_parent\"><img src=\"https://colab.research.google.com/assets/colab-badge.svg\" alt=\"Open In Colab\"/></a>"
      ]
    },
    {
      "cell_type": "code",
      "execution_count": 1,
      "metadata": {
        "colab": {
          "base_uri": "https://localhost:8080/"
        },
        "id": "wjO-qrlFVKtO",
        "outputId": "bc7ca7d6-3609-4afb-fa6c-bc5f7978f7bd"
      },
      "outputs": [
        {
          "output_type": "stream",
          "name": "stdout",
          "text": [
            "\n",
            "*******************************************************************************\n",
            "          |                   |                  |                     |\n",
            " _________|________________.=\"\"_;=.______________|_____________________|_______\n",
            "|                   |  ,-\"_,=\"\"     `\"=.|                  |\n",
            "|___________________|__\"=._o`\"-._        `\"=.______________|___________________\n",
            "          |                `\"=._o`\"=._      _`\"=._                     |\n",
            " _________|_____________________:=._o \"=._.\"_.-=\"'\"=.__________________|_______\n",
            "|                   |    __.--\" , ; `\"=._o.\" ,-\"\"\"-._ \".   |\n",
            "|___________________|_._\"  ,. .` ` `` ,  `\"-._\"-._   \". '__|___________________\n",
            "          |           |o`\"=._` , \"` `; .\". ,  \"-._\"-._; ;              |\n",
            " _________|___________| ;`-.o`\"=._; .\" ` '`.\"\\ ` . \"-._ /_______________|_______\n",
            "|                   | |o ;    `\"-.o`\"=._``  '` \" ,__.--o;   |\n",
            "|___________________|_| ;     (#) `-.o `\"=.`_.--\"_o.-; ;___|___________________\n",
            "____/______/______/___|o;._    \"      `\".o|o_.--\"    ;o;____/______/______/____\n",
            "/______/______/______/_\"=._o--._        ; | ;        ; ;/______/______/______/_\n",
            "____/______/______/______/__\"=._o--._   ;o|o;     _._;o;____/______/______/____\n",
            "/______/______/______/______/____\"=._o._; | ;_.--\"o.--\"_/______/______/______/_\n",
            "____/______/______/______/______/_____\"=.o|o_.--\"\"___/______/______/______/____\n",
            "/______/______/______/______/______/______/______/______/______/______/_____ /\n",
            "*******************************************************************************\n",
            "\n",
            "Welcome to Treasure Island.\n",
            "Your mission is to find the treasure.\n",
            "You're heading a two way path, where one looks creepy and the other looks good. Do you want to take \"left\" or \"right\"?\n",
            "left\n",
            "You now encountered a lake filled with crocodiles. Do you want to \"swim\" or \"wait\"?\n",
            "wait\n",
            "Finally you have entered the last zone of the game, where you can escape out of the forest. Which door you want to open \"yellow\" \"red\" \"blue\"?\n",
            "Yellow\n",
            "Hurray! You found the treasure. You win.\n"
          ]
        }
      ],
      "source": [
        "print(r'''\n",
        "*******************************************************************************\n",
        "          |                   |                  |                     |\n",
        " _________|________________.=\"\"_;=.______________|_____________________|_______\n",
        "|                   |  ,-\"_,=\"\"     `\"=.|                  |\n",
        "|___________________|__\"=._o`\"-._        `\"=.______________|___________________\n",
        "          |                `\"=._o`\"=._      _`\"=._                     |\n",
        " _________|_____________________:=._o \"=._.\"_.-=\"'\"=.__________________|_______\n",
        "|                   |    __.--\" , ; `\"=._o.\" ,-\"\"\"-._ \".   |\n",
        "|___________________|_._\"  ,. .` ` `` ,  `\"-._\"-._   \". '__|___________________\n",
        "          |           |o`\"=._` , \"` `; .\". ,  \"-._\"-._; ;              |\n",
        " _________|___________| ;`-.o`\"=._; .\" ` '`.\"\\ ` . \"-._ /_______________|_______\n",
        "|                   | |o ;    `\"-.o`\"=._``  '` \" ,__.--o;   |\n",
        "|___________________|_| ;     (#) `-.o `\"=.`_.--\"_o.-; ;___|___________________\n",
        "____/______/______/___|o;._    \"      `\".o|o_.--\"    ;o;____/______/______/____\n",
        "/______/______/______/_\"=._o--._        ; | ;        ; ;/______/______/______/_\n",
        "____/______/______/______/__\"=._o--._   ;o|o;     _._;o;____/______/______/____\n",
        "/______/______/______/______/____\"=._o._; | ;_.--\"o.--\"_/______/______/______/_\n",
        "____/______/______/______/______/_____\"=.o|o_.--\"\"___/______/______/______/____\n",
        "/______/______/______/______/______/______/______/______/______/______/_____ /\n",
        "*******************************************************************************\n",
        "''')\n",
        "print(\"Welcome to Treasure Island.\")\n",
        "print(\"Your mission is to find the treasure.\")\n",
        "\n",
        "\n",
        "choice1 = input('You\\'re heading a two way path, where one looks creepy and the other looks good. Do you want to take \"left\" or \"right\"?\\n').lower()\n",
        "\n",
        "if choice1 == \"left\":\n",
        "    choice2 = input('You now encountered a lake filled with crocodiles. Do you want to \"swim\" or \"wait\"?\\n').lower()\n",
        "    if choice2 == \"wait\":\n",
        "        choice3 = input('Finally you have entered the last zone of the game, where you can escape out of the forest. Which door you want to open \"yellow\" \"red\" \"blue\"?\\n').lower()\n",
        "        if choice3 == \"yellow\":\n",
        "            print(\"Hurray! You found the treasure. You win.\")\n",
        "        elif choice3 == \"red\":\n",
        "            print(\"Ohh no! You have been attacked by a demon :(\")\n",
        "        elif choice3 == \"blue\":\n",
        "            print(\"Oopsy! You died due to consuming poisonous fruit :(\")\n",
        "        else:\n",
        "            print(\"Oops! Invalid input. Game Over. Try again!\")\n",
        "    else:\n",
        "        print(\"Oops! The crocodiles ate you. Try again!\")\n",
        "else:\n",
        "    print(\"Oops! You were attacked by an unidentified creature. Game Over. Try again!\")\n",
        "\n",
        "\n",
        "\n"
      ]
    },
    {
      "cell_type": "code",
      "source": [],
      "metadata": {
        "id": "pM5HbZJsVS2U"
      },
      "execution_count": null,
      "outputs": []
    }
  ]
}