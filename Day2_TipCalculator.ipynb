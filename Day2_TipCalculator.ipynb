{
  "nbformat": 4,
  "nbformat_minor": 0,
  "metadata": {
    "colab": {
      "provenance": [],
      "authorship_tag": "ABX9TyPAI+YFRQvhk/kbht6zd3ye",
      "include_colab_link": true
    },
    "kernelspec": {
      "name": "python3",
      "display_name": "Python 3"
    },
    "language_info": {
      "name": "python"
    }
  },
  "cells": [
    {
      "cell_type": "markdown",
      "metadata": {
        "id": "view-in-github",
        "colab_type": "text"
      },
      "source": [
        "<a href=\"https://colab.research.google.com/github/Channaraya-Jayashankar/100-Days-of-Code-100-Python-Projects/blob/main/Day2_TipCalculator.ipynb\" target=\"_parent\"><img src=\"https://colab.research.google.com/assets/colab-badge.svg\" alt=\"Open In Colab\"/></a>"
      ]
    },
    {
      "cell_type": "code",
      "execution_count": 1,
      "metadata": {
        "colab": {
          "base_uri": "https://localhost:8080/"
        },
        "id": "yCjiWP1ZPnnb",
        "outputId": "91b4030a-fca0-49fa-8695-882ff8f18034"
      },
      "outputs": [
        {
          "output_type": "stream",
          "name": "stdout",
          "text": [
            "Welcome to the tip calculator!\n",
            "What was the total bill? $650\n",
            "What percentage tip would you like to give? 10 12 15 12\n",
            "How many people to split the bill? 5\n",
            "Each person should pay: $145.6\n"
          ]
        }
      ],
      "source": [
        "print(\"Welcome to the tip calculator!\")\n",
        "bill = float(input(\"What was the total bill? $\"))\n",
        "tip = int(input(\"What percentage tip would you like to give? 10 12 15 \"))\n",
        "people = int(input(\"How many people to split the bill? \"))\n",
        "tip_bill = tip / 100\n",
        "tip_total = bill * tip / 100\n",
        "total_bill = bill + tip_total\n",
        "per_person = total_bill / people\n",
        "final_bill = round(per_person, 2)\n",
        "print(f\"Each person should pay: ${final_bill}\")\n",
        "\n",
        "# Each person should pay:\n",
        "# (150.00 / 5) * 1.12 = 33.6\n",
        "# After formatting the result to 2 decimal places = 33.60\n",
        "\n"
      ]
    },
    {
      "cell_type": "code",
      "source": [],
      "metadata": {
        "id": "W2IhF-hXPqlP"
      },
      "execution_count": null,
      "outputs": []
    }
  ]
}