{
  "nbformat": 4,
  "nbformat_minor": 0,
  "metadata": {
    "colab": {
      "provenance": [],
      "authorship_tag": "ABX9TyPlQrq0zFngps/EGOITexFQ",
      "include_colab_link": true
    },
    "kernelspec": {
      "name": "python3",
      "display_name": "Python 3"
    },
    "language_info": {
      "name": "python"
    }
  },
  "cells": [
    {
      "cell_type": "markdown",
      "metadata": {
        "id": "view-in-github",
        "colab_type": "text"
      },
      "source": [
        "<a href=\"https://colab.research.google.com/github/Channaraya-Jayashankar/100-Days-of-Code-100-Python-Projects/blob/main/Day1_BandNameGenerator.ipynb\" target=\"_parent\"><img src=\"https://colab.research.google.com/assets/colab-badge.svg\" alt=\"Open In Colab\"/></a>"
      ]
    },
    {
      "cell_type": "code",
      "execution_count": 1,
      "metadata": {
        "colab": {
          "base_uri": "https://localhost:8080/"
        },
        "id": "2Y0fFQm7M6AK",
        "outputId": "dcfea5a9-4551-4087-8665-1ce25acd9b9e"
      },
      "outputs": [
        {
          "output_type": "stream",
          "name": "stdout",
          "text": [
            "Hi, there! Welcome to the Band Name Generator\n",
            "Which city did you grew up in?\n",
            "Bangalore\n",
            "What was your pet's name?\n",
            "Cooper\n",
            "Your Band name could be: Bangalore Cooper\n"
          ]
        }
      ],
      "source": [
        "print(\"Hi, there! Welcome to the Band Name Generator\")\n",
        "b = input(\"Which city did you grew up in?\\n\")\n",
        "a = input(\"What was your pet's name?\\n\")\n",
        "print(\"Your Band name could be:\" + \" \" + b + \" \" + a)"
      ]
    },
    {
      "cell_type": "code",
      "source": [],
      "metadata": {
        "id": "jOEIYarzM-Ev"
      },
      "execution_count": null,
      "outputs": []
    }
  ]
}