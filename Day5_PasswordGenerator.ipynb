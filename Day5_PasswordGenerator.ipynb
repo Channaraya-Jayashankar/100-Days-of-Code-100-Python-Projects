{
  "nbformat": 4,
  "nbformat_minor": 0,
  "metadata": {
    "colab": {
      "provenance": [],
      "authorship_tag": "ABX9TyOaAFOSaqblyfG0V7cqfxm+",
      "include_colab_link": true
    },
    "kernelspec": {
      "name": "python3",
      "display_name": "Python 3"
    },
    "language_info": {
      "name": "python"
    }
  },
  "cells": [
    {
      "cell_type": "markdown",
      "metadata": {
        "id": "view-in-github",
        "colab_type": "text"
      },
      "source": [
        "<a href=\"https://colab.research.google.com/github/Channaraya-Jayashankar/100-Days-of-Code-100-Python-Projects/blob/main/Day5_PasswordGenerator.ipynb\" target=\"_parent\"><img src=\"https://colab.research.google.com/assets/colab-badge.svg\" alt=\"Open In Colab\"/></a>"
      ]
    },
    {
      "cell_type": "code",
      "execution_count": 1,
      "metadata": {
        "colab": {
          "base_uri": "https://localhost:8080/"
        },
        "id": "q6VJhJhhZcH-",
        "outputId": "f3694d44-8c70-4f4f-d796-d737915576da"
      },
      "outputs": [
        {
          "output_type": "stream",
          "name": "stdout",
          "text": [
            "Welcome to the PyPassword Generator!\n",
            "How many letters would you like in your password?\n",
            "4\n",
            "How many symbols would you like?\n",
            "2\n",
            "How many numbers would you like?\n",
            "3\n",
            "Your password for easy version is: kTly61&%#\n",
            "Your password for hard version is: #f89XnY&9\n"
          ]
        }
      ],
      "source": [
        "import random\n",
        "\n",
        "\n",
        "letters = ['a', 'b', 'c', 'd', 'e', 'f', 'g', 'h', 'i', 'j', 'k', 'l', 'm', 'n', 'o', 'p', 'q', 'r', 's', 't', 'u', 'v', 'w', 'x', 'y', 'z', 'A', 'B', 'C', 'D', 'E', 'F', 'G', 'H', 'I', 'J', 'K', 'L', 'M', 'N', 'O', 'P', 'Q', 'R', 'S', 'T', 'U', 'V', 'W', 'X', 'Y', 'Z']\n",
        "numbers = ['0', '1', '2', '3', '4', '5', '6', '7', '8', '9']\n",
        "symbols = ['!', '#', '$', '%', '&', '(', ')', '*', '+']\n",
        "\n",
        "print(\"Welcome to the PyPassword Generator!\")\n",
        "nr_letters = int(input(\"How many letters would you like in your password?\\n\"))\n",
        "nr_symbols = int(input(f\"How many symbols would you like?\\n\"))\n",
        "nr_numbers = int(input(f\"How many numbers would you like?\\n\"))\n",
        "\n",
        "# Easy version\n",
        "\n",
        "password = \"\"\n",
        "\n",
        "for char in range(0, nr_letters):\n",
        "    password += random.choice(letters)\n",
        "\n",
        "for char in range(0, nr_symbols):\n",
        "    password += random.choice(numbers)\n",
        "\n",
        "for char in range(0, nr_numbers):\n",
        "    password += random.choice(symbols)\n",
        "\n",
        "print(f\"Your password for easy version is: {password}\")\n",
        "\n",
        "# Hard version\n",
        "\n",
        "password_list = []\n",
        "\n",
        "for char in range(0, nr_letters):\n",
        "    password_list.append(random.choice(letters))\n",
        "\n",
        "for char in range(0, nr_symbols):\n",
        "    password_list.append(random.choice(symbols))\n",
        "\n",
        "for char in range(0, nr_numbers):\n",
        "    password_list.append(random.choice(numbers))\n",
        "\n",
        "\n",
        "random.shuffle(password_list)\n",
        "\n",
        "password2 = \"\"\n",
        "\n",
        "for char in password_list:\n",
        "    password2 += char\n",
        "\n",
        "print(f\"Your password for hard version is: {password2}\")"
      ]
    },
    {
      "cell_type": "code",
      "source": [],
      "metadata": {
        "id": "95Mt1bPMv0SS"
      },
      "execution_count": null,
      "outputs": []
    }
  ]
}